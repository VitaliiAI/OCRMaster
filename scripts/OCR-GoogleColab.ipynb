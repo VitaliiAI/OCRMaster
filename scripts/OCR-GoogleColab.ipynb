{
 "cells": [
  {
   "cell_type": "markdown",
   "id": "16261ff8",
   "metadata": {},
   "source": [
    "# Google Colab demo\n",
    "\n",
    "To enable GPU:\n",
    "Runtime -> Change runtime type -> GPU"
   ]
  },
  {
   "cell_type": "code",
   "execution_count": null,
   "id": "25761b2c",
   "metadata": {},
   "outputs": [],
   "source": [
    "! pip install onnxruntime\n",
    "! pip install openvino\n",
    "! pip install huggingface_hub\n",
    "! pip install git+https://github.com/parlance/ctcdecode\n",
    "\n",
    "! git clone https://github.com/ai-forever/OCR-model.git"
   ]
  },
  {
   "cell_type": "code",
   "execution_count": null,
   "id": "d13e3a4d",
   "metadata": {},
   "outputs": [],
   "source": [
    "import sys\n",
    "sys.path.append('OCR-model/')\n",
    "\n",
    "import cv2\n",
    "from matplotlib import pyplot as plt\n",
    "import numpy as np\n",
    "\n",
    "from huggingface_hub import hf_hub_download\n",
    "\n",
    "from ocr.predictor import OcrPredictor"
   ]
  },
  {
   "cell_type": "code",
   "execution_count": null,
   "id": "3a01f543",
   "metadata": {},
   "outputs": [],
   "source": [
    "repo_id = \"sberbank-ai/ReadingPipeline-Peter\"\n",
    "\n",
    "IMG_PATH = hf_hub_download(repo_id, \"crop.jpg\")\n",
    "\n",
    "MODEL_PATH = hf_hub_download(repo_id, \"ocr/ocr_model.ckpt\")\n",
    "CONFIG_PATH = hf_hub_download(repo_id, \"ocr/ocr_config.json\")\n",
    "LM_PATH = ''\n",
    "\n",
    "NUM_THREADS = 8\n",
    "\n",
    "DEVICE = 'cuda'\n",
    "\n",
    "RUNTIME = 'Pytorch'"
   ]
  },
  {
   "cell_type": "code",
   "execution_count": null,
   "id": "85e23719",
   "metadata": {},
   "outputs": [],
   "source": [
    "predictor = OcrPredictor(\n",
    "    model_path=MODEL_PATH,\n",
    "    config_path=CONFIG_PATH,\n",
    "    lm_path=LM_PATH,\n",
    "    num_threads=NUM_THREADS,\n",
    "    device=DEVICE,\n",
    "    runtime=RUNTIME\n",
    ")"
   ]
  },
  {
   "cell_type": "code",
   "execution_count": null,
   "id": "e9289300",
   "metadata": {},
   "outputs": [],
   "source": [
    "image = cv2.imread(IMG_PATH)\n",
    "\n",
    "pred_texts = predictor([image])"
   ]
  },
  {
   "cell_type": "code",
   "execution_count": null,
   "id": "a7ace4b1",
   "metadata": {},
   "outputs": [],
   "source": [
    "print(pred_texts[0])\n",
    "\n",
    "image = cv2.imread(IMG_PATH)\n",
    "image = cv2.cvtColor(image, cv2.COLOR_BGR2RGB)\n",
    "plt.figure(figsize=(10, 10))\n",
    "plt.imshow(image)\n",
    "plt.show()"
   ]
  }
 ],
 "metadata": {
  "kernelspec": {
   "display_name": "Python 3 (ipykernel)",
   "language": "python",
   "name": "python3"
  },
  "language_info": {
   "codemirror_mode": {
    "name": "ipython",
    "version": 3
   },
   "file_extension": ".py",
   "mimetype": "text/x-python",
   "name": "python",
   "nbconvert_exporter": "python",
   "pygments_lexer": "ipython3",
   "version": "3.9.5"
  }
 },
 "nbformat": 4,
 "nbformat_minor": 5
}
