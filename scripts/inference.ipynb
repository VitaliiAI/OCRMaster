{
 "cells": [
  {
   "cell_type": "code",
   "execution_count": null,
   "id": "c0a671fe",
   "metadata": {},
   "outputs": [],
   "source": [
    "import cv2\n",
    "from matplotlib import pyplot as plt\n",
    "\n",
    "from ocr.predictor import OcrPredictor"
   ]
  },
  {
   "cell_type": "code",
   "execution_count": null,
   "id": "469d9030",
   "metadata": {},
   "outputs": [],
   "source": [
    "IMG_PATHS = ['']\n",
    "\n",
    "MODEL_PATH = ''\n",
    "CONFIG_PATH = ''\n",
    "LM_PATH = ''\n",
    "\n",
    "NUM_THREADS = 8\n",
    "\n",
    "DEVICE = 'cuda'\n",
    "\n",
    "RUNTIME = 'Pytorch'"
   ]
  },
  {
   "cell_type": "code",
   "execution_count": null,
   "id": "2d4ea798",
   "metadata": {},
   "outputs": [],
   "source": [
    "predictor = OcrPredictor(\n",
    "    model_path=MODEL_PATH,\n",
    "    config_path=CONFIG_PATH,\n",
    "    lm_path=LM_PATH,\n",
    "    num_threads=NUM_THREADS,\n",
    "    device=DEVICE,\n",
    "    runtime=RUNTIME\n",
    ")"
   ]
  },
  {
   "cell_type": "markdown",
   "id": "8e2894c4",
   "metadata": {},
   "source": [
    "# Predict"
   ]
  },
  {
   "cell_type": "code",
   "execution_count": null,
   "id": "8bb7f01b",
   "metadata": {},
   "outputs": [],
   "source": [
    "images = [cv2.imread(i) for i in IMG_PATHS]\n",
    "\n",
    "pred_texts = predictor(images)"
   ]
  },
  {
   "cell_type": "code",
   "execution_count": null,
   "id": "a585473e",
   "metadata": {},
   "outputs": [],
   "source": [
    "for idx, pred_text in enumerate(pred_texts):\n",
    "    print(pred_text)\n",
    "\n",
    "    plt.figure(figsize=(5, 5))\n",
    "    plt.imshow(images[idx])\n",
    "    plt.show()"
   ]
  }
 ],
 "metadata": {
  "kernelspec": {
   "display_name": "Python 3 (ipykernel)",
   "language": "python",
   "name": "python3"
  },
  "language_info": {
   "codemirror_mode": {
    "name": "ipython",
    "version": 3
   },
   "file_extension": ".py",
   "mimetype": "text/x-python",
   "name": "python",
   "nbconvert_exporter": "python",
   "pygments_lexer": "ipython3",
   "version": "3.8.10"
  }
 },
 "nbformat": 4,
 "nbformat_minor": 5
}
